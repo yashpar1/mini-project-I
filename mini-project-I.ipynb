{
 "cells": [
  {
   "cell_type": "markdown",
   "metadata": {},
   "source": [
    "# Mini-Project I\n",
    "During this project, we will practice handling of complex lists and dictionaries in Python. Plus, we will learn how to work with API documentation. Don't be afraid to search for the information in the [**documentation**](https://api.tfl.gov.uk/swagger/ui/index.html?url=/swagger/docs/v1#!/AccidentStats/AccidentStats_Get).\n",
    "\n",
    "Let's go to the tasks, we have some parsing to do :)!!"
   ]
  },
  {
   "cell_type": "code",
   "execution_count": 1,
   "metadata": {},
   "outputs": [],
   "source": [
    "import requests\n",
    "import os\n",
    "import json"
   ]
  },
  {
   "cell_type": "markdown",
   "metadata": {},
   "source": [
    "## Demo"
   ]
  },
  {
   "cell_type": "code",
   "execution_count": 2,
   "metadata": {},
   "outputs": [],
   "source": [
    "# URL\n",
    "url = 'https://api.tfl.gov.uk/'\n",
    "AirQuality = 'AirQuality'"
   ]
  },
  {
   "cell_type": "code",
   "execution_count": 3,
   "metadata": {},
   "outputs": [],
   "source": [
    "# We send the request to the API\n",
    "# NOTE: if you don't have your APP_KEY, run this without the url_append\n",
    "res = requests.get(url + AirQuality)"
   ]
  },
  {
   "cell_type": "code",
   "execution_count": 4,
   "metadata": {},
   "outputs": [
    {
     "data": {
      "text/plain": [
       "200"
      ]
     },
     "execution_count": 4,
     "metadata": {},
     "output_type": "execute_result"
    }
   ],
   "source": [
    "# We can check if the request was successful\n",
    "res.status_code"
   ]
  },
  {
   "cell_type": "code",
   "execution_count": 5,
   "metadata": {},
   "outputs": [],
   "source": [
    "# We can export the information that was returned using method .json()\n",
    "data = res.json()"
   ]
  },
  {
   "cell_type": "code",
   "execution_count": 6,
   "metadata": {},
   "outputs": [],
   "source": [
    "#print(json.dumps(data, indent=2))"
   ]
  },
  {
   "cell_type": "markdown",
   "metadata": {},
   "source": [
    "## Task\n",
    "Parse the dictionary and print the AirQuality predictions for tomorrow"
   ]
  },
  {
   "cell_type": "code",
   "execution_count": 7,
   "metadata": {},
   "outputs": [
    {
     "name": "stdout",
     "output_type": "stream",
     "text": [
      "Low air pollution forecast valid from Saturday 30 July to end of Saturday 30 July GMT\n"
     ]
    }
   ],
   "source": [
    "print(data['currentForecast'][1]['forecastSummary'])"
   ]
  },
  {
   "cell_type": "code",
   "execution_count": null,
   "metadata": {},
   "outputs": [],
   "source": []
  },
  {
   "cell_type": "markdown",
   "metadata": {},
   "source": [
    "## Task\n",
    "What are the different modes of transport which are operated by Transfer for London? How many of modes do they have?\n",
    "\n",
    "Print the list with different modes of transport, plus their count. Example output:\n",
    "```\n",
    "[bus, cable-car,.....]\n",
    "Number of different modes of transport is: xyz\n",
    "```\n",
    "\n",
    "We need to search the documentation for correct request."
   ]
  },
  {
   "cell_type": "code",
   "execution_count": 8,
   "metadata": {},
   "outputs": [],
   "source": [
    "Modes = '/Line/Meta/Modes'\n",
    "res2 = requests.get(url + Modes)"
   ]
  },
  {
   "cell_type": "code",
   "execution_count": 20,
   "metadata": {},
   "outputs": [
    {
     "name": "stdout",
     "output_type": "stream",
     "text": [
      "['bus', 'cable-car', 'cycle-hire', 'dlr', 'elizabeth-line', 'overground', 'replacement-bus', 'river-bus', 'river-tour', 'tram', 'tube']\n",
      "Number of different modes of transport is: 11\n"
     ]
    }
   ],
   "source": [
    "data2 = res2.json()\n",
    "#print(json.dumps(data2,indent=2))\n",
    "\n",
    "trans = []\n",
    "for mode in data2:\n",
    "    if mode['isTflService'] == True:\n",
    "        trans.append(mode['modeName'])\n",
    "print(trans)\n",
    "print(f'Number of different modes of transport is: {len(trans)}')"
   ]
  },
  {
   "cell_type": "markdown",
   "metadata": {},
   "source": [
    "## Task\n",
    "How many BikePoints in London are operated by Transfor for London? How many docks are in **all** BikePoints? There is the information for empty and full docks for each BikePoint."
   ]
  },
  {
   "cell_type": "code",
   "execution_count": 21,
   "metadata": {},
   "outputs": [],
   "source": [
    "BikePoint = '/BikePoint'\n",
    "res3 = requests.get(url + BikePoint)"
   ]
  },
  {
   "cell_type": "code",
   "execution_count": 22,
   "metadata": {},
   "outputs": [
    {
     "name": "stdout",
     "output_type": "stream",
     "text": [
      "Transport for London operates 792 BikePoints)\n",
      "There are 20945 total docks in all BikePoints\n"
     ]
    }
   ],
   "source": [
    "data3 = res3.json()\n",
    "#print(json.dumps(data3, indent=2))\n",
    "points = 0\n",
    "docks = 0\n",
    "for bikepoint in data3:\n",
    "    points += 1\n",
    "    docks += int(bikepoint['additionalProperties'][8]['value'])\n",
    "print(f'Transport for London operates {points} BikePoints)')\n",
    "print(f'There are {docks} total docks in all BikePoints')"
   ]
  },
  {
   "cell_type": "markdown",
   "metadata": {},
   "source": [
    "## Task\n",
    "How many tube and bus lines are in London? Print names of all tube lines."
   ]
  },
  {
   "cell_type": "code",
   "execution_count": 23,
   "metadata": {},
   "outputs": [],
   "source": [
    "tb = '/Line/Mode/tube,bus'\n",
    "res4 = requests.get(url + tb)"
   ]
  },
  {
   "cell_type": "code",
   "execution_count": 24,
   "metadata": {},
   "outputs": [
    {
     "name": "stdout",
     "output_type": "stream",
     "text": [
      "There are 631 bus lines in London\n",
      "There are 11 tube lines in London. They are ['Bakerloo', 'Central', 'Circle', 'District', 'Hammersmith & City', 'Jubilee', 'Metropolitan', 'Northern', 'Piccadilly', 'Victoria', 'Waterloo & City']\n"
     ]
    }
   ],
   "source": [
    "data4 = res4.json()\n",
    "#print(json.dumps(data4, indent=2))\n",
    "buses = []\n",
    "tubes = []\n",
    "for line in data4:\n",
    "    if line['modeName'] == 'bus':\n",
    "        buses.append(line['name'])\n",
    "    elif line['modeName'] == 'tube':\n",
    "        tubes.append(line['name'])\n",
    "print(f'There are {len(buses)} bus lines in London')\n",
    "print(f'There are {len(tubes)} tube lines in London. They are {(tubes)}')"
   ]
  },
  {
   "cell_type": "markdown",
   "metadata": {},
   "source": [
    "## Task\n",
    "How many station has `victoria` line?"
   ]
  },
  {
   "cell_type": "code",
   "execution_count": 25,
   "metadata": {},
   "outputs": [],
   "source": [
    "vic = '/Line/victoria/Route/Sequence/all'\n",
    "res5 = requests.get(url + vic)"
   ]
  },
  {
   "cell_type": "code",
   "execution_count": 26,
   "metadata": {},
   "outputs": [
    {
     "name": "stdout",
     "output_type": "stream",
     "text": [
      "The victoria line has 16 stations\n"
     ]
    }
   ],
   "source": [
    "data5 = res5.json()\n",
    "#print(json.dumps(data5, indent=2))\n",
    "stats = 0\n",
    "stations = data5['stations']\n",
    "for station in stations:\n",
    "    stats += 1\n",
    "print(f'The victoria line has {stats} stations')"
   ]
  },
  {
   "cell_type": "markdown",
   "metadata": {},
   "source": [
    "## Task\n",
    "Plan the journey from Heathrow Airport to Tower Bridge using Bus and Tube? Which way is faster? Example output:\n",
    "```\n",
    "Planned duration:\n",
    "Bus: x minutes\n",
    "Tube: y minutes\n",
    "```\n",
    "\n",
    "We need to search the documentation for correct requests and parameters we need."
   ]
  },
  {
   "cell_type": "code",
   "execution_count": 43,
   "metadata": {},
   "outputs": [],
   "source": [
    "journey = '/Journey/JourneyResults/Heathrow Airport/to/Tower Bridge'\n",
    "journey_bus = '/Journey/JourneyResults/Heathrow Airport, Heathrow Airport Terminal 3/to/City of London, Tower Bridge?mode=bus'\n",
    "journey_tube = '/Journey/JourneyResults/Heathrow Airport, Heathrow Airport Terminal 3/to/City of London, Tower Bridge?mode=tube'\n",
    "res6_bus = requests.get(url + journey_bus)\n",
    "res6_tube = requests.get(url + journey_tube)"
   ]
  },
  {
   "cell_type": "code",
   "execution_count": 48,
   "metadata": {},
   "outputs": [
    {
     "name": "stdout",
     "output_type": "stream",
     "text": [
      "136\n",
      "321\n"
     ]
    }
   ],
   "source": [
    "data6_bus = res6_bus.json()\n",
    "print(json.dumps(data6_bus['journeys'][0]['duration'], indent = 2))\n",
    "\n",
    "data6_tube = res6_tube.json()\n",
    "print(json.dumps(data6_tube['journeys'][0]['duration'], indent = 2))"
   ]
  },
  {
   "cell_type": "code",
   "execution_count": null,
   "metadata": {},
   "outputs": [],
   "source": []
  },
  {
   "cell_type": "code",
   "execution_count": null,
   "metadata": {},
   "outputs": [],
   "source": []
  },
  {
   "cell_type": "code",
   "execution_count": null,
   "metadata": {},
   "outputs": [],
   "source": []
  },
  {
   "cell_type": "code",
   "execution_count": null,
   "metadata": {},
   "outputs": [],
   "source": []
  }
 ],
 "metadata": {
  "kernelspec": {
   "display_name": "Python 3 (ipykernel)",
   "language": "python",
   "name": "python3"
  },
  "language_info": {
   "codemirror_mode": {
    "name": "ipython",
    "version": 3
   },
   "file_extension": ".py",
   "mimetype": "text/x-python",
   "name": "python",
   "nbconvert_exporter": "python",
   "pygments_lexer": "ipython3",
   "version": "3.9.12"
  }
 },
 "nbformat": 4,
 "nbformat_minor": 4
}
