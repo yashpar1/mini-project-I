{
 "cells": [
  {
   "cell_type": "markdown",
   "metadata": {},
   "source": [
    "## Movies\n",
    "In this part of mini-project, we need to have our API-KEY ready because this API won't work without it.\n",
    "\n",
    "We encourage you to look for correct endpoints in [the documentation](https://developers.themoviedb.org/3/account). We can also play around with requests there before copying them to Python."
   ]
  },
  {
   "cell_type": "code",
   "execution_count": 46,
   "metadata": {},
   "outputs": [],
   "source": [
    "import requests\n",
    "import os\n",
    "import json"
   ]
  },
  {
   "cell_type": "markdown",
   "metadata": {},
   "source": [
    "## Demo"
   ]
  },
  {
   "cell_type": "code",
   "execution_count": 47,
   "metadata": {},
   "outputs": [],
   "source": [
    "#base = \"https://api.themoviedb.org/3\"\n",
    "#url = \"/search/movie\"\n",
    "\n",
    "#query = 'Mad Max Fury Road'\n",
    "#api_key = os.environ['MOVIES_API_KEY']\n",
    "#params = f'?query={query}&api_key={api_key}'"
   ]
  },
  {
   "cell_type": "code",
   "execution_count": 48,
   "metadata": {},
   "outputs": [],
   "source": [
    "#res = requests.get(base+url+params)"
   ]
  },
  {
   "cell_type": "code",
   "execution_count": 49,
   "metadata": {},
   "outputs": [],
   "source": [
    "#res.status_code"
   ]
  },
  {
   "cell_type": "code",
   "execution_count": 50,
   "metadata": {},
   "outputs": [],
   "source": [
    "#mov = res.json()\n",
    "#print(json.dumps(mov,indent=2))"
   ]
  },
  {
   "cell_type": "code",
   "execution_count": null,
   "metadata": {},
   "outputs": [],
   "source": []
  },
  {
   "cell_type": "code",
   "execution_count": 90,
   "metadata": {},
   "outputs": [],
   "source": [
    "api_key = os.environ['MOVIES_API_KEY']\n",
    "\n",
    "def get_info(search_term, search_type, categories):\n",
    "    '''\n",
    "    Takes a search_term (which is the name of a movie TV show or actor, as a string), a search_type ('movie' 'person' or 'tv'),\n",
    "    and a list of strings containing the categories about which information is desired\n",
    "    '''\n",
    "    base = \"https://api.themoviedb.org/3\"\n",
    "    query = str(search_term)\n",
    "    search_type = str(search_type)\n",
    "    search_url = f'/search/{search_type}?query={query}&api_key={api_key}'\n",
    "    result = requests.get(base + search_url).json()['results'][0]['id']\n",
    "    results_url = f'/{search_type}/{result}?api_key={api_key}'\n",
    "    res = requests.get(base + results_url).json()\n",
    "    res_list = []\n",
    "    for category in categories:\n",
    "        res_list.append(res[category])\n",
    "    return res_list"
   ]
  },
  {
   "cell_type": "markdown",
   "metadata": {},
   "source": [
    "## Task\n",
    "Search for you favorite movie and return the information about the movie:\n",
    "- name\n",
    "- release date\n",
    "- runtime\n",
    "- revenue\n",
    "- length of the overview\n",
    "- number of votes\n",
    "- voting average"
   ]
  },
  {
   "cell_type": "code",
   "execution_count": 52,
   "metadata": {},
   "outputs": [],
   "source": [
    "#mov_id = mov['results'][0]['id']\n",
    "#url2 = '/movie/'\n",
    "#params2 = f'{mov_id}?api_key={api_key}'\n",
    "#mad = requests.get(base + url2 + params2)"
   ]
  },
  {
   "cell_type": "code",
   "execution_count": 91,
   "metadata": {},
   "outputs": [
    {
     "name": "stdout",
     "output_type": "stream",
     "text": [
      "['Mad Max: Fury Road', '2015-05-13', 121, 378858340, 270, 19594, 7.558]\n"
     ]
    }
   ],
   "source": [
    "movie_categories = ['original_title', 'release_date', 'runtime', 'revenue', 'overview', 'vote_count', 'vote_average']\n",
    "mad = get_info('Mad Max: Fury Road', 'movie', movie_categories)\n",
    "mad[4] = len(mad[4])\n",
    "print(mad)\n",
    "#print(json.dumps(mad2, indent=2))"
   ]
  },
  {
   "cell_type": "code",
   "execution_count": null,
   "metadata": {},
   "outputs": [],
   "source": []
  },
  {
   "cell_type": "code",
   "execution_count": null,
   "metadata": {},
   "outputs": [],
   "source": []
  },
  {
   "cell_type": "markdown",
   "metadata": {},
   "source": [
    "## Task\n",
    "Search for you favorite actor/actress and return the information about him/her:\n",
    "- name\n",
    "- date of birth\n",
    "- place of birth\n",
    "- length of the biography"
   ]
  },
  {
   "cell_type": "code",
   "execution_count": 54,
   "metadata": {},
   "outputs": [],
   "source": [
    "#query_act = 'Rooney Mara'\n",
    "#params_act_s = f'?query={query_act}&api_key={api_key}'\n",
    "#url_act_s='/search/person'"
   ]
  },
  {
   "cell_type": "code",
   "execution_count": 55,
   "metadata": {},
   "outputs": [],
   "source": [
    "#res_act = requests.get(base+url_act_s+params_act_s)\n",
    "#act = res_act.json()\n",
    "#act_id = act['results'][0]['id']\n",
    "#url_act_o = '/person/'\n",
    "#params_act_o = f'{act_id}?api_key={api_key}'\n",
    "#roo = requests.get(base + url_act_o + params_act_o)\n",
    "#roojs = roo.json()\n",
    "#print(json.dumps(roojs,indent=2))"
   ]
  },
  {
   "cell_type": "code",
   "execution_count": 92,
   "metadata": {},
   "outputs": [
    {
     "name": "stdout",
     "output_type": "stream",
     "text": [
      "['Rooney Mara', '1985-04-17', 'Bedford, New York, USA', 722]\n"
     ]
    }
   ],
   "source": [
    "person_categories = ['name', 'birthday', 'place_of_birth', 'biography']\n",
    "rooney = get_info('Rooney Mara', 'person', person_categories)\n",
    "rooney[3] = len(rooney[3])\n",
    "print(rooney)"
   ]
  },
  {
   "cell_type": "markdown",
   "metadata": {},
   "source": [
    "## Task\n",
    "Search for you favorite tv-show and return the information about it:\n",
    "- name\n",
    "- first air date\n",
    "- number of seasons\n",
    "- number of episodes\n",
    "- genres"
   ]
  },
  {
   "cell_type": "code",
   "execution_count": 57,
   "metadata": {},
   "outputs": [],
   "source": [
    "#query_tv = 'Game of Thrones'\n",
    "#params_tv_s = f'?query={query_tv}&api_key={api_key}'\n",
    "#url_tv_s='/search/tv'"
   ]
  },
  {
   "cell_type": "code",
   "execution_count": 58,
   "metadata": {},
   "outputs": [],
   "source": [
    "#res_tv = requests.get(base+url_tv_s+params_tv_s)\n",
    "#tv = res_tv.json()\n",
    "#tv_id = tv['results'][0]['id']\n",
    "#url_tv_o = '/tv/'\n",
    "#params_tv_o = f'{tv_id}?api_key={api_key}'\n",
    "#game = requests.get(base + url_tv_o + params_tv_o)\n",
    "#gamejs = game.json()\n",
    "#print(json.dumps(gamejs,indent=2))"
   ]
  },
  {
   "cell_type": "code",
   "execution_count": 93,
   "metadata": {},
   "outputs": [
    {
     "name": "stdout",
     "output_type": "stream",
     "text": [
      "['Game of Thrones', '2011-04-17', 8, 73, ['Sci-Fi & Fantasy', 'Drama', 'Action & Adventure']]\n"
     ]
    }
   ],
   "source": [
    "tv_categories = ['name', 'first_air_date', 'number_of_seasons', 'number_of_episodes', 'genres']\n",
    "got = get_info('Game of Thrones', 'tv', tv_categories)\n",
    "got[4] = [genre['name'] for genre in got[4]]\n",
    "#gen = []\n",
    "#for genre in gamejs['genres']:\n",
    "#    gen.append(genre['name'])\n",
    "\n",
    "#got = [gamejs['name'], gamejs['first_air_date'], gamejs['number_of_seasons'], gamejs['number_of_episodes'], gen]\n",
    "print(got)"
   ]
  },
  {
   "cell_type": "markdown",
   "metadata": {},
   "source": [
    "## Task \n",
    "Find top 5 trending:\n",
    "- movies\n",
    "- tv-shows\n",
    "- people"
   ]
  },
  {
   "cell_type": "code",
   "execution_count": 88,
   "metadata": {},
   "outputs": [],
   "source": [
    "time = '/week'\n",
    "url_t = '/trending/'\n",
    "params_t = f'?api_key={api_key}'\n",
    "tv_t = requests.get(base + url_t + 'tv' + time + params_t)\n",
    "tv_trend = tv_t.json()\n",
    "movie_t = requests.get(base + url_t + 'movie' + time + params_t)\n",
    "movie_trend = movie_t.json()\n",
    "people_t = requests.get(base + url_t + 'person' + time + params_t)\n",
    "people_trend = people_t.json()"
   ]
  },
  {
   "cell_type": "code",
   "execution_count": 89,
   "metadata": {},
   "outputs": [
    {
     "name": "stdout",
     "output_type": "stream",
     "text": [
      "['The Gray Man', 'Jurassic World Dominion', 'Thor: Love and Thunder', 'Doctor Strange in the Multiverse of Madness', 'The Black Phone']\n",
      "['Stranger Things', 'Resident Evil', 'Ms. Marvel', 'The Boys', 'Westworld']\n",
      "['赤坂丽', 'Tom Cruise', '雷火剑', 'Brad Pitt', 'Quentin Tarantino']\n"
     ]
    }
   ],
   "source": [
    "i = 0\n",
    "top_movies = []\n",
    "top_shows = []\n",
    "top_people = []\n",
    "while i < 5:\n",
    "    top_movies.append(movie_trend['results'][i]['original_title'])\n",
    "    top_shows.append(tv_trend['results'][i]['name'])\n",
    "    top_people.append(people_trend['results'][i]['name'])\n",
    "    i += 1\n",
    "\n",
    "print(top_movies)\n",
    "print(top_shows)\n",
    "print(top_people)"
   ]
  }
 ],
 "metadata": {
  "kernelspec": {
   "display_name": "Python 3 (ipykernel)",
   "language": "python",
   "name": "python3"
  },
  "language_info": {
   "codemirror_mode": {
    "name": "ipython",
    "version": 3
   },
   "file_extension": ".py",
   "mimetype": "text/x-python",
   "name": "python",
   "nbconvert_exporter": "python",
   "pygments_lexer": "ipython3",
   "version": "3.9.12"
  }
 },
 "nbformat": 4,
 "nbformat_minor": 4
}
