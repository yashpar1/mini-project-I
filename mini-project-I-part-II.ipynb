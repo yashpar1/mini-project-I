{
 "cells": [
  {
   "cell_type": "markdown",
   "metadata": {},
   "source": [
    "## Movies\n",
    "In this part of mini-project, we need to have our API-KEY ready because this API won't work without it.\n",
    "\n",
    "We encourage you to look for correct endpoints in [the documentation](https://developers.themoviedb.org/3/account). We can also play around with requests there before copying them to Python."
   ]
  },
  {
   "cell_type": "code",
   "execution_count": 193,
   "metadata": {},
   "outputs": [],
   "source": [
    "import requests\n",
    "import os\n",
    "import json"
   ]
  },
  {
   "cell_type": "markdown",
   "metadata": {},
   "source": [
    "## Demo"
   ]
  },
  {
   "cell_type": "code",
   "execution_count": 165,
   "metadata": {},
   "outputs": [],
   "source": [
    "base = \"https://api.themoviedb.org/3\"\n",
    "url = \"/search/movie\"\n",
    "\n",
    "query = 'Mad Max Fury Road'\n",
    "api_key = os.environ['MOVIES_API_KEY']\n",
    "params = f'?query={query}&api_key={api_key}'"
   ]
  },
  {
   "cell_type": "code",
   "execution_count": 166,
   "metadata": {},
   "outputs": [],
   "source": [
    "res = requests.get(base+url+params)"
   ]
  },
  {
   "cell_type": "code",
   "execution_count": 94,
   "metadata": {},
   "outputs": [
    {
     "data": {
      "text/plain": [
       "200"
      ]
     },
     "execution_count": 94,
     "metadata": {},
     "output_type": "execute_result"
    }
   ],
   "source": [
    "res.status_code"
   ]
  },
  {
   "cell_type": "code",
   "execution_count": 149,
   "metadata": {},
   "outputs": [],
   "source": [
    "mov = res.json()\n",
    "#print(json.dumps(mov,indent=2))"
   ]
  },
  {
   "cell_type": "code",
   "execution_count": null,
   "metadata": {},
   "outputs": [],
   "source": []
  },
  {
   "cell_type": "code",
   "execution_count": null,
   "metadata": {},
   "outputs": [],
   "source": []
  },
  {
   "cell_type": "markdown",
   "metadata": {},
   "source": [
    "## Task\n",
    "Search for you favorite movie and return the information about the movie:\n",
    "- name\n",
    "- release date\n",
    "- runtime\n",
    "- revenue\n",
    "- length of the overview\n",
    "- number of votes\n",
    "- voting average"
   ]
  },
  {
   "cell_type": "code",
   "execution_count": 131,
   "metadata": {},
   "outputs": [],
   "source": [
    "mov_id = mov['results'][0]['id']\n",
    "url2 = '/movie/'\n",
    "params2 = f'{mov_id}?api_key={api_key}'\n",
    "mad = requests.get(base + url2 + params2)"
   ]
  },
  {
   "cell_type": "code",
   "execution_count": 132,
   "metadata": {},
   "outputs": [
    {
     "name": "stdout",
     "output_type": "stream",
     "text": [
      "['Mad Max: Fury Road', '2015-05-13', 121, 378858340, 270, 19590, 7.558]\n"
     ]
    }
   ],
   "source": [
    "madjs = mad.json()\n",
    "#print(json.dumps(mad2, indent=2))\n",
    "\n",
    "mad_info = [madjs['original_title'], madjs['release_date'],madjs['runtime'],madjs['revenue'],len(madjs['overview']),madjs['vote_count'],madjs['vote_average']]\n",
    "print(mad_info)"
   ]
  },
  {
   "cell_type": "code",
   "execution_count": null,
   "metadata": {},
   "outputs": [],
   "source": []
  },
  {
   "cell_type": "code",
   "execution_count": null,
   "metadata": {},
   "outputs": [],
   "source": []
  },
  {
   "cell_type": "markdown",
   "metadata": {},
   "source": [
    "## Task\n",
    "Search for you favorite actor/actress and return the information about him/her:\n",
    "- name\n",
    "- date of birth\n",
    "- place of birth\n",
    "- length of the biography"
   ]
  },
  {
   "cell_type": "code",
   "execution_count": 134,
   "metadata": {},
   "outputs": [],
   "source": [
    "query_act = 'Rooney Mara'\n",
    "params_act_s = f'?query={query_act}&api_key={api_key}'\n",
    "url_act_s='/search/person'"
   ]
  },
  {
   "cell_type": "code",
   "execution_count": 148,
   "metadata": {},
   "outputs": [],
   "source": [
    "res_act = requests.get(base+url_act_s+params_act)\n",
    "act = res_act.json()\n",
    "act_id = act['results'][0]['id']\n",
    "url_act_o = '/person/'\n",
    "params_act_o = f'{act_id}?api_key={api_key}'\n",
    "roo = requests.get(base + url_act_o + params_act_o)\n",
    "roojs = roo.json()\n",
    "#print(json.dumps(roojs,indent=2))"
   ]
  },
  {
   "cell_type": "code",
   "execution_count": 140,
   "metadata": {},
   "outputs": [
    {
     "name": "stdout",
     "output_type": "stream",
     "text": [
      "['Rooney Mara', '1985-04-17', 'Bedford, New York, USA', 722]\n"
     ]
    }
   ],
   "source": [
    "roon = [roojs['name'], roojs['birthday'], roojs['place_of_birth'], len(roojs['biography'])]\n",
    "print(roon)"
   ]
  },
  {
   "cell_type": "markdown",
   "metadata": {},
   "source": [
    "## Task\n",
    "Search for you favorite tv-show and return the information about it:\n",
    "- name\n",
    "- first air date\n",
    "- number of seasons\n",
    "- number of episodes\n",
    "- genres"
   ]
  },
  {
   "cell_type": "code",
   "execution_count": 141,
   "metadata": {},
   "outputs": [],
   "source": [
    "query_tv = 'Game of Thrones'\n",
    "params_tv_s = f'?query={query_tv}&api_key={api_key}'\n",
    "url_tv_s='/search/tv'"
   ]
  },
  {
   "cell_type": "code",
   "execution_count": 160,
   "metadata": {},
   "outputs": [],
   "source": [
    "res_tv = requests.get(base+url_tv_s+params_tv_s)\n",
    "tv = res_tv.json()\n",
    "tv_id = tv['results'][0]['id']\n",
    "url_tv_o = '/tv/'\n",
    "params_tv_o = f'{tv_id}?api_key={api_key}'\n",
    "game = requests.get(base + url_tv_o + params_tv_o)\n",
    "gamejs = game.json()\n",
    "#print(json.dumps(gamejs,indent=2))"
   ]
  },
  {
   "cell_type": "code",
   "execution_count": 159,
   "metadata": {},
   "outputs": [
    {
     "name": "stdout",
     "output_type": "stream",
     "text": [
      "['Game of Thrones', '2011-04-17', 8, 73, ['Sci-Fi & Fantasy', 'Drama', 'Action & Adventure']]\n"
     ]
    }
   ],
   "source": [
    "gen = []\n",
    "for genre in gamejs['genres']:\n",
    "    gen.append(genre['name'])\n",
    "\n",
    "got = [gamejs['name'], gamejs['first_air_date'], gamejs['number_of_seasons'], gamejs['number_of_episodes'], gen]\n",
    "print(got)"
   ]
  },
  {
   "cell_type": "markdown",
   "metadata": {},
   "source": [
    "## Task \n",
    "Find top 5 trending:\n",
    "- movies\n",
    "- tv-shows\n",
    "- people"
   ]
  },
  {
   "cell_type": "code",
   "execution_count": 191,
   "metadata": {},
   "outputs": [],
   "source": [
    "time = '/week'\n",
    "url_t = '/trending/'\n",
    "params_t = f'?api_key={api_key}'\n",
    "tv_t = requests.get(base + url_t + 'tv' + time + params_t)\n",
    "tv_trend = tv_t.json()\n",
    "movie_t = requests.get(base + url_t + 'movie' + time + params_t)\n",
    "movie_trend = movie_t.json()\n",
    "people_t = requests.get(base + url_t + 'person' + time + params_t)\n",
    "people_trend = people_t.json()"
   ]
  },
  {
   "cell_type": "code",
   "execution_count": 194,
   "metadata": {},
   "outputs": [
    {
     "name": "stdout",
     "output_type": "stream",
     "text": [
      "['The Gray Man', 'Jurassic World Dominion', 'Thor: Love and Thunder', 'Doctor Strange in the Multiverse of Madness', 'The Black Phone']\n",
      "['Stranger Things', 'Resident Evil', 'Ms. Marvel', 'The Boys', 'Westworld']\n",
      "['赤坂丽', 'Tom Cruise', '雷火剑', 'Quentin Tarantino', 'Brad Pitt']\n"
     ]
    }
   ],
   "source": [
    "i = 0\n",
    "top_movies = []\n",
    "top_shows = []\n",
    "top_people = []\n",
    "while i < 5:\n",
    "    top_movies.append(movie_trend['results'][i]['original_title'])\n",
    "    top_shows.append(tv_trend['results'][i]['name'])\n",
    "    top_people.append(people_trend['results'][i]['name'])\n",
    "    i += 1\n",
    "\n",
    "print(top_movies)\n",
    "print(top_shows)\n",
    "print(top_people)"
   ]
  }
 ],
 "metadata": {
  "kernelspec": {
   "display_name": "Python 3 (ipykernel)",
   "language": "python",
   "name": "python3"
  },
  "language_info": {
   "codemirror_mode": {
    "name": "ipython",
    "version": 3
   },
   "file_extension": ".py",
   "mimetype": "text/x-python",
   "name": "python",
   "nbconvert_exporter": "python",
   "pygments_lexer": "ipython3",
   "version": "3.9.12"
  }
 },
 "nbformat": 4,
 "nbformat_minor": 4
}
